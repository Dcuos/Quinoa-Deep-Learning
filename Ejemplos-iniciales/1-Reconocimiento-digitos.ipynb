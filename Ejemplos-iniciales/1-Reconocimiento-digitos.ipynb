{
  "nbformat": 4,
  "nbformat_minor": 0,
  "metadata": {
    "colab": {
      "name": "1-Reconocimiento-digitos.ipynb",
      "provenance": [],
      "collapsed_sections": [],
      "toc_visible": true
    },
    "kernelspec": {
      "name": "python3",
      "display_name": "Python 3"
    },
    "language_info": {
      "name": "python"
    }
  },
  "cells": [
    {
      "cell_type": "markdown",
      "metadata": {
        "id": "xwSKO0rTD8fz"
      },
      "source": [
        "[![Open In Colab](https://colab.research.google.com/assets/colab-badge.svg)](https://colab.research.google.com/github/ramg-vcs/quinoa-deep-learning/blob/main/Ejemplos-iniciales/1-Reconocimiento-digitos.ipynb)\n",
        "\n"
      ]
    },
    {
      "cell_type": "markdown",
      "metadata": {
        "id": "9fPTrEZNgt6Q"
      },
      "source": [
        "##1. Reconocimiento de dígitos\n",
        "\n",
        "Este cuaderno contiene un ejemplo básico de entrenamiento de una red neuronal para el reconocimiento de dígitos escritos a mano, utilizando la base de datos [MNIST](http://yann.lecun.com/exdb/mnist/).\n",
        "\n",
        "En el ejemplo se abordan los siguientes pasos:\n",
        "- 1.1. Cargar el conjunto de datos\n",
        "- \n",
        "\n",
        "El proceso se realiza con Keras sobre TensorFlow, por lo cual empezaremos cargando esta última biblioteca:"
      ]
    },
    {
      "cell_type": "code",
      "metadata": {
        "id": "MTHzS80nlawl"
      },
      "source": [
        "import tensorflow as tf"
      ],
      "execution_count": null,
      "outputs": []
    },
    {
      "cell_type": "markdown",
      "metadata": {
        "id": "xyo36zjSlIwW"
      },
      "source": [
        "###1.1. Cargar el conjunto de datos\n",
        "\n",
        ">La base de datos MNIST contiene 70.000 imágenes de dígitos escritos a mano, con sus respectivas etiquetas. De estas imágenes, se usan 60.000 en el entrenamiento de la red neuronal y las 10.000 restantes se reservan para las pruebas.\n",
        ">\n",
        ">Utilizaremos cuatro arreglos de NumPy para almacenar el conjunto de datos. Los primeros dos para las imágenes y las etiquetas de entrenamiento:\n",
        "- ```train_images```\n",
        "- ```train_labels```\n",
        ">\n",
        ">Y dos más para las imágenes y las etiquetas de prueba:\n",
        "- ```test_images``` \n",
        "- ```test_labels```\n",
        ">\n",
        ">El siguiente código permite cargar el conjunto de datos en los cuatro arreglos:"
      ]
    },
    {
      "cell_type": "code",
      "metadata": {
        "id": "APtXuwoFlwlt"
      },
      "source": [
        "mnist = tf.keras.datasets.mnist\n",
        "(train_images, train_labels), (test_images, test_labels) = mnist.load_data()"
      ],
      "execution_count": null,
      "outputs": []
    },
    {
      "cell_type": "markdown",
      "metadata": {
        "id": "PbsEAkTGw39i"
      },
      "source": [
        ">Antes de continuar con el proceso es importante familiarizarse con el conjunto de datos. Revisemos primero las características de las imágenes de entrenamiento, contenidas en el arreglo ```train_images```:"
      ]
    },
    {
      "cell_type": "code",
      "metadata": {
        "colab": {
          "base_uri": "https://localhost:8080/"
        },
        "id": "xWcizalVx7Rp",
        "outputId": "ed5b4731-959a-45f8-9f3b-d43bd0601348"
      },
      "source": [
        "print(\"Número de ejes:\", train_images.ndim)\n",
        "print(\"Forma:\", train_images.shape)\n",
        "print(\"Tipo de datos:\", train_images.dtype)"
      ],
      "execution_count": null,
      "outputs": [
        {
          "output_type": "stream",
          "name": "stdout",
          "text": [
            "Número de ejes: 3\n",
            "Forma: (60000, 28, 28)\n",
            "Tipo de datos: uint8\n"
          ]
        }
      ]
    },
    {
      "cell_type": "markdown",
      "metadata": {
        "id": "B8pqZZ7dyaMB"
      },
      "source": [
        ">De acuerdo con estos resultados ```train_images``` es un vector con $60.000$ matrices $28 \\times28 $ de números enteros de $8$ bits sin signo. Por lo tanto:\n",
        ">- Cada imagen está representada por una matriz.\n",
        ">- Las imágenes son de 28x28 pixeles.\n",
        ">- Cada pixel tiene asociado un número entero en el intervalo $[0, 255]$\n",
        ">\n",
        ">Observemos la imagen número 5.000, ¿reconoces el dígito? Aprovecha además para confirmar que la imagen es de 28x28 pixeles."
      ]
    },
    {
      "cell_type": "code",
      "metadata": {
        "colab": {
          "base_uri": "https://localhost:8080/",
          "height": 282
        },
        "id": "N826vWf8BeLC",
        "outputId": "50143848-95d2-41ea-efa2-37d93488faf3"
      },
      "source": [
        "import matplotlib.pyplot as plt\n",
        "plt.imshow(train_images[5000], cmap=plt.cm.binary)"
      ],
      "execution_count": null,
      "outputs": [
        {
          "output_type": "execute_result",
          "data": {
            "text/plain": [
              "<matplotlib.image.AxesImage at 0x7f40439cfd10>"
            ]
          },
          "metadata": {},
          "execution_count": 26
        },
        {
          "output_type": "display_data",
          "data": {
            "image/png": "[encoded data removed]",
            "text/plain": [
              "<Figure size 432x288 with 1 Axes>"
            ]
          },
          "metadata": {
            "needs_background": "light"
          }
        }
      ]
    },
    {
      "cell_type": "markdown",
      "metadata": {
        "id": "uql-DKbBCmEK"
      },
      "source": [
        ">Revisemos ahora las características de las etiquetas de entrenamiento, contenidas en el arreglo ```train_labels```:"
      ]
    },
    {
      "cell_type": "code",
      "metadata": {
        "colab": {
          "base_uri": "https://localhost:8080/"
        },
        "id": "v7zF-5KBTYEW",
        "outputId": "a07eee8a-25cc-495b-fcc8-c02acf288d7d"
      },
      "source": [
        "print(\"Número de ejes:\", train_labels.ndim)\n",
        "print(\"Forma:\", train_labels.shape)\n",
        "print(\"Tipo de datos:\", train_labels.dtype)"
      ],
      "execution_count": null,
      "outputs": [
        {
          "output_type": "stream",
          "name": "stdout",
          "text": [
            "Número de ejes: 1\n",
            "Forma: (60000,)\n",
            "Tipo de datos: uint8\n"
          ]
        }
      ]
    },
    {
      "cell_type": "markdown",
      "metadata": {
        "id": "yMrZdcqfTi24"
      },
      "source": [
        ">¿Esperabas estos resultados? Se trata de un vector de $60.000$ elementos. Cada elemento es un número entero de $8$ bits sin signo.\n",
        ">\n",
        ">Sabemos que con este vector se etiquetan las imágenes de dígitos escritos a mano, de modo que sus elementos pertenecen al conjunto $\\{0, 1, 2, 3, 4, 5, 6, 7, 8, 9\\}$.\n",
        ">\n",
        ">Comprobemos la etiqueta asociada a la imagen que visualizamos hace un momento, la número 5.000; esperamos que sea un 7:"
      ]
    },
    {
      "cell_type": "code",
      "metadata": {
        "colab": {
          "base_uri": "https://localhost:8080/"
        },
        "id": "YE8Ikv__DEJz",
        "outputId": "fd7db3b2-aed9-42ff-b5aa-f4383a0d2107"
      },
      "source": [
        "print(\"La imagen 5.000 corresponde al número\", train_labels[5000])"
      ],
      "execution_count": null,
      "outputs": [
        {
          "output_type": "stream",
          "name": "stdout",
          "text": [
            "La imagen 5.000 corresponde al número 7\n"
          ]
        }
      ]
    },
    {
      "cell_type": "markdown",
      "metadata": {
        "id": "GhjTsAKVD0ec"
      },
      "source": [
        "---\n",
        "\n",
        "**Practica.** Ya inspeccionamos las principales características de las imágenes y las etiquetas del conjunto de datos de entrenamiento. De manera particular, vimos que la imagen número 5.000, y también su etiqueta, corresponde al dígito 7. Dedica algunos minutos para modificar el código y observar otros datos, **¿cuál es el primer dígito del conjunto? ¿y el último? ¿Puedes encontrar un 3?**\n",
        "\n",
        "---"
      ]
    },
    {
      "cell_type": "markdown",
      "metadata": {
        "id": "ONKSTov6iL0N"
      },
      "source": [
        ">Finalmente, es importante indicar cómo se obtiene la representación matricial de la imagen y, de paso, se confirma que cada pixel está codificado con un número entero en el intervalo $[0, 255]$. \n",
        ">\n",
        ">Para lo anterior, se escribe la siguiente línea que imprime la mitad izquierda de la matriz asociada a la imagen con que hemos estado trabajando, la número 5.000. Compara esta representación matricial con la imagen, es clara la relación entre el valor del elemento en la matriz y el tono del pixel en la imagen."
      ]
    },
    {
      "cell_type": "code",
      "metadata": {
        "colab": {
          "base_uri": "https://localhost:8080/"
        },
        "id": "J6fPDhJ-CJOc",
        "outputId": "5eec1665-1161-4109-b796-20ddbf73cecb"
      },
      "source": [
        "print(train_images[5000, :, :14])"
      ],
      "execution_count": null,
      "outputs": [
        {
          "output_type": "stream",
          "name": "stdout",
          "text": [
            "[[  0   0   0   0   0   0   0   0   0   0   0   0   0   0]\n",
            " [  0   0   0   0   0   0   0   0   0   0   0   0   0   0]\n",
            " [  0   0   0   0   0   0   0   0   0   0   0   0   0   0]\n",
            " [  0   0   0   0   0   0   0   0   0   0   0   0   0   0]\n",
            " [  0   0   0   0   0   0   0   0   0   0   0   0   0   0]\n",
            " [  0   0   0   0   0   0   0   0   0   0   0   0   0   0]\n",
            " [  0   0   0   0   0   0   0   0   0   0   0   0   0   0]\n",
            " [  0   0   0   0   0   0   0   0   0   0   0  97  96  77]\n",
            " [  0   0   0  90 138 235 235 235 235 235 235 251 251 248]\n",
            " [  0   0 140 251 254 254 254 254 254 254 254 254 254 254]\n",
            " [  0   0 226 254 208 199 199 199 199 139  61  61  61  61]\n",
            " [  0   0  38  82  13   0   0   0   0   0   0   0   0   0]\n",
            " [  0   0   0   0   0   0   0   0   0   0   0   0   0   0]\n",
            " [  0   0   0   0   0   0   0   0   0   0   0   0   0   0]\n",
            " [  0   0   0   0   0   0   0   0   0   0   0   0   0   0]\n",
            " [  0   0   0   0   0   0   0   0   0   0   0  25 117 228]\n",
            " [  0   0   0   0   0   0   0   0   0  68 119 220 254 254]\n",
            " [  0   0   0   0   0   0   0  37 187 253 254 254 254 223]\n",
            " [  0   0   0   0   0   0 113 219 254 242 227 115  89  31]\n",
            " [  0   0   0   0   0   0 169 254 176  62   0   0   0   0]\n",
            " [  0   0   0   0   0   0  18 124   0   0   0   0   0   0]\n",
            " [  0   0   0   0   0   0   0   0   0   0   0   0   0   0]\n",
            " [  0   0   0   0   0   0   0   0   0   0   0   0   0   0]\n",
            " [  0   0   0   0   0   0   0   0   0   0   0   0   0   0]\n",
            " [  0   0   0   0   0   0   0   0   0   0   0   0   0   0]\n",
            " [  0   0   0   0   0   0   0   0   0   0   0   0   0   0]\n",
            " [  0   0   0   0   0   0   0   0   0   0   0   0   0   0]\n",
            " [  0   0   0   0   0   0   0   0   0   0   0   0   0   0]]\n"
          ]
        }
      ]
    },
    {
      "cell_type": "markdown",
      "metadata": {
        "id": "l900hxtuEi6C"
      },
      "source": [
        "---\n",
        "\n",
        "**Ejercicio 1.** Confirma que la imagen número **100** del conjunto de prueba corresponde a un **6**. Revisa tanto la imagen, contenida en ```test_images```, como su etiqueta, en ```test_labels```.\n",
        "\n",
        "---"
      ]
    },
    {
      "cell_type": "markdown",
      "metadata": {
        "id": "kMVamKvDfeHC"
      },
      "source": [
        "###Créditos\n",
        "\n",
        "Este cuaderno hace parte del proyecto **Quinoa Deep Learning**, una iniciativa del Semillero de investigación Quinoa."
      ]
    }
  ]
}